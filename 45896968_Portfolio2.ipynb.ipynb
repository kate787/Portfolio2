{
 "cells": [
  {
   "cell_type": "markdown",
   "id": "Z88FfJc9lA_T",
   "metadata": {
    "id": "Z88FfJc9lA_T"
   },
   "source": [
    "## Analysis of an E-commerce Dataset Part 2"
   ]
  },
  {
   "cell_type": "markdown",
   "id": "hoq0NwA9lA_V",
   "metadata": {
    "id": "hoq0NwA9lA_V"
   },
   "source": [
    "The goal of the second analysis task is to train linear regression models to predict users' ratings towards items. This involves a standard Data Science workflow: exploring data, building models, making predictions, and evaluating results. In this task, we will explore the impacts of feature selections and different sizes of training/testing data on the model performance. We will use another cleaned combined e-commerce sub-dataset that **is different from** the one in “Analysis of an E-commerce Dataset” task 1."
   ]
  },
  {
   "cell_type": "markdown",
   "id": "f9fd3NU_lA_W",
   "metadata": {
    "id": "f9fd3NU_lA_W"
   },
   "source": [
    "### Import Cleaned E-commerce Dataset\n",
    "The csv file named 'cleaned_ecommerce_dataset.csv' is provided. You may need to use the Pandas method, i.e., `read_csv`, for reading it. After that, please print out its total length."
   ]
  },
  {
   "cell_type": "code",
   "execution_count": 1,
   "id": "PJrb2gtAlA_W",
   "metadata": {
    "id": "PJrb2gtAlA_W"
   },
   "outputs": [],
   "source": [
    "student_name = \"Kate Lee\"\n",
    "student_id = \"45896968\""
   ]
  },
  {
   "cell_type": "code",
   "execution_count": 1,
   "id": "b8ccd51a",
   "metadata": {},
   "outputs": [
    {
     "name": "stderr",
     "output_type": "stream",
     "text": [
      "/opt/anaconda3/lib/python3.9/site-packages/pandas/core/computation/expressions.py:21: UserWarning: Pandas requires version '2.8.4' or newer of 'numexpr' (version '2.8.3' currently installed).\n",
      "  from pandas.core.computation.check import NUMEXPR_INSTALLED\n",
      "/opt/anaconda3/lib/python3.9/site-packages/pandas/core/arrays/masked.py:60: UserWarning: Pandas requires version '1.3.6' or newer of 'bottleneck' (version '1.3.5' currently installed).\n",
      "  from pandas.core import (\n",
      "/opt/anaconda3/lib/python3.9/site-packages/scipy/__init__.py:155: UserWarning: A NumPy version >=1.18.5 and <1.25.0 is required for this version of SciPy (detected version 1.26.4\n",
      "  warnings.warn(f\"A NumPy version >={np_minversion} and <{np_maxversion}\"\n"
     ]
    }
   ],
   "source": [
    "import pandas as pd\n",
    "import numpy as np\n",
    "from sklearn.model_selection import train_test_split\n",
    "from sklearn import linear_model\n",
    "from sklearn.metrics import r2_score\n",
    "\n",
    "import seaborn as sns\n",
    "import matplotlib.pylab as plt\n",
    "%matplotlib inline"
   ]
  },
  {
   "cell_type": "code",
   "execution_count": 2,
   "id": "2082d423",
   "metadata": {},
   "outputs": [],
   "source": [
    "df = pd.read_csv(\"cleaned_ecommerce_dataset.csv\")"
   ]
  },
  {
   "cell_type": "code",
   "execution_count": 3,
   "id": "b5b9d8b7",
   "metadata": {},
   "outputs": [
    {
     "name": "stdout",
     "output_type": "stream",
     "text": [
      "The total length of dataset is 2685\n"
     ]
    }
   ],
   "source": [
    "print(\"The total length of dataset is\",len(df))"
   ]
  },
  {
   "cell_type": "markdown",
   "id": "aqbuU6rglA_X",
   "metadata": {
    "id": "aqbuU6rglA_X"
   },
   "source": [
    "### Explore the Dataset\n",
    "\n",
    "* Use the methods, i.e., `head()` and `info()`, to have a rough picture about the data, e.g., how many columns, and the data types of each column.\n",
    "* As our goal is to predict ratings given other columns, please get the correlations between helpfulness/gender/category/review and rating by using the `corr()` method.\n",
    "\n",
    "  Hints: To get the correlations between different features, you may need to first convert the categorical features (i.e., gender, category and review) into numerial values. For doing this, you may need to import `OrdinalEncoder` from `sklearn.preprocessing` (refer to the useful exmaples [here](https://pbpython.com/categorical-encoding.html))\n",
    "* Please provide ___necessary explanations/analysis___ on the correlations, and figure out which are the ___most___ and ___least___ corrleated features regarding rating. Try to ___discuss___ how the correlation will affect the final prediction results, if we use these features to train a regression model for rating prediction. In what follows, we will conduct experiments to verify your hypothesis."
   ]
  },
  {
   "cell_type": "code",
   "execution_count": 4,
   "id": "0cc6ac92",
   "metadata": {},
   "outputs": [],
   "source": [
    "from sklearn.preprocessing import OrdinalEncoder"
   ]
  },
  {
   "cell_type": "code",
   "execution_count": 5,
   "id": "954a5e40",
   "metadata": {},
   "outputs": [
    {
     "data": {
      "text/html": [
       "<div>\n",
       "<style scoped>\n",
       "    .dataframe tbody tr th:only-of-type {\n",
       "        vertical-align: middle;\n",
       "    }\n",
       "\n",
       "    .dataframe tbody tr th {\n",
       "        vertical-align: top;\n",
       "    }\n",
       "\n",
       "    .dataframe thead th {\n",
       "        text-align: right;\n",
       "    }\n",
       "</style>\n",
       "<table border=\"1\" class=\"dataframe\">\n",
       "  <thead>\n",
       "    <tr style=\"text-align: right;\">\n",
       "      <th></th>\n",
       "      <th>userId</th>\n",
       "      <th>timestamp</th>\n",
       "      <th>review</th>\n",
       "      <th>item</th>\n",
       "      <th>rating</th>\n",
       "      <th>helpfulness</th>\n",
       "      <th>gender</th>\n",
       "      <th>category</th>\n",
       "      <th>item_id</th>\n",
       "      <th>item_price</th>\n",
       "      <th>user_city</th>\n",
       "    </tr>\n",
       "  </thead>\n",
       "  <tbody>\n",
       "    <tr>\n",
       "      <th>0</th>\n",
       "      <td>4081</td>\n",
       "      <td>71900</td>\n",
       "      <td>Not always McCrap</td>\n",
       "      <td>McDonald's</td>\n",
       "      <td>4.0</td>\n",
       "      <td>3.0</td>\n",
       "      <td>M</td>\n",
       "      <td>Restaurants &amp; Gourmet</td>\n",
       "      <td>41</td>\n",
       "      <td>30.74</td>\n",
       "      <td>4</td>\n",
       "    </tr>\n",
       "    <tr>\n",
       "      <th>1</th>\n",
       "      <td>4081</td>\n",
       "      <td>72000</td>\n",
       "      <td>I dropped the chalupa even before he told me to</td>\n",
       "      <td>Taco Bell</td>\n",
       "      <td>1.0</td>\n",
       "      <td>4.0</td>\n",
       "      <td>M</td>\n",
       "      <td>Restaurants &amp; Gourmet</td>\n",
       "      <td>74</td>\n",
       "      <td>108.30</td>\n",
       "      <td>4</td>\n",
       "    </tr>\n",
       "    <tr>\n",
       "      <th>2</th>\n",
       "      <td>4081</td>\n",
       "      <td>72000</td>\n",
       "      <td>The Wonderful World of Wendy</td>\n",
       "      <td>Wendy's</td>\n",
       "      <td>5.0</td>\n",
       "      <td>4.0</td>\n",
       "      <td>M</td>\n",
       "      <td>Restaurants &amp; Gourmet</td>\n",
       "      <td>84</td>\n",
       "      <td>69.00</td>\n",
       "      <td>4</td>\n",
       "    </tr>\n",
       "    <tr>\n",
       "      <th>3</th>\n",
       "      <td>4081</td>\n",
       "      <td>100399</td>\n",
       "      <td>They actually did it</td>\n",
       "      <td>South Park: Bigger, Longer &amp; Uncut</td>\n",
       "      <td>5.0</td>\n",
       "      <td>3.0</td>\n",
       "      <td>M</td>\n",
       "      <td>Movies</td>\n",
       "      <td>68</td>\n",
       "      <td>143.11</td>\n",
       "      <td>4</td>\n",
       "    </tr>\n",
       "    <tr>\n",
       "      <th>4</th>\n",
       "      <td>4081</td>\n",
       "      <td>100399</td>\n",
       "      <td>Hey! Gimme some pie!</td>\n",
       "      <td>American Pie</td>\n",
       "      <td>3.0</td>\n",
       "      <td>3.0</td>\n",
       "      <td>M</td>\n",
       "      <td>Movies</td>\n",
       "      <td>6</td>\n",
       "      <td>117.89</td>\n",
       "      <td>4</td>\n",
       "    </tr>\n",
       "  </tbody>\n",
       "</table>\n",
       "</div>"
      ],
      "text/plain": [
       "   userId  timestamp                                           review  \\\n",
       "0    4081      71900                                Not always McCrap   \n",
       "1    4081      72000  I dropped the chalupa even before he told me to   \n",
       "2    4081      72000                     The Wonderful World of Wendy   \n",
       "3    4081     100399                             They actually did it   \n",
       "4    4081     100399                             Hey! Gimme some pie!   \n",
       "\n",
       "                                 item  rating  helpfulness gender  \\\n",
       "0                          McDonald's     4.0          3.0      M   \n",
       "1                           Taco Bell     1.0          4.0      M   \n",
       "2                             Wendy's     5.0          4.0      M   \n",
       "3  South Park: Bigger, Longer & Uncut     5.0          3.0      M   \n",
       "4                        American Pie     3.0          3.0      M   \n",
       "\n",
       "                category  item_id  item_price  user_city  \n",
       "0  Restaurants & Gourmet       41       30.74          4  \n",
       "1  Restaurants & Gourmet       74      108.30          4  \n",
       "2  Restaurants & Gourmet       84       69.00          4  \n",
       "3                 Movies       68      143.11          4  \n",
       "4                 Movies        6      117.89          4  "
      ]
     },
     "execution_count": 5,
     "metadata": {},
     "output_type": "execute_result"
    }
   ],
   "source": [
    "df.head()"
   ]
  },
  {
   "cell_type": "code",
   "execution_count": 6,
   "id": "571e5367",
   "metadata": {},
   "outputs": [
    {
     "name": "stdout",
     "output_type": "stream",
     "text": [
      "<class 'pandas.core.frame.DataFrame'>\n",
      "RangeIndex: 2685 entries, 0 to 2684\n",
      "Data columns (total 11 columns):\n",
      " #   Column       Non-Null Count  Dtype  \n",
      "---  ------       --------------  -----  \n",
      " 0   userId       2685 non-null   int64  \n",
      " 1   timestamp    2685 non-null   int64  \n",
      " 2   review       2685 non-null   object \n",
      " 3   item         2685 non-null   object \n",
      " 4   rating       2685 non-null   float64\n",
      " 5   helpfulness  2685 non-null   float64\n",
      " 6   gender       2685 non-null   object \n",
      " 7   category     2685 non-null   object \n",
      " 8   item_id      2685 non-null   int64  \n",
      " 9   item_price   2685 non-null   float64\n",
      " 10  user_city    2685 non-null   int64  \n",
      "dtypes: float64(3), int64(4), object(4)\n",
      "memory usage: 230.9+ KB\n"
     ]
    }
   ],
   "source": [
    "df.info()"
   ]
  },
  {
   "cell_type": "code",
   "execution_count": 7,
   "id": "eba2a52d",
   "metadata": {},
   "outputs": [
    {
     "data": {
      "text/plain": [
       "(2685, 11)"
      ]
     },
     "execution_count": 7,
     "metadata": {},
     "output_type": "execute_result"
    }
   ],
   "source": [
    "df.shape"
   ]
  },
  {
   "cell_type": "code",
   "execution_count": 8,
   "id": "be440ba9",
   "metadata": {},
   "outputs": [],
   "source": [
    "# Converting categorical features into numerical values\n",
    "encoder = OrdinalEncoder()\n",
    "df[['gender', 'category', 'review']] = encoder.fit_transform(df[['gender', 'category', 'review']])"
   ]
  },
  {
   "cell_type": "code",
   "execution_count": 9,
   "id": "b394083c",
   "metadata": {},
   "outputs": [
    {
     "name": "stdout",
     "output_type": "stream",
     "text": [
      "Correlation matrix:\n",
      "             helpfulness    gender  category    review    rating\n",
      "helpfulness     1.000000  0.075947 -0.013408 -0.028259 -0.007523\n",
      "gender          0.075947  1.000000  0.022549 -0.037884 -0.034337\n",
      "category       -0.013408  0.022549  1.000000  0.001970 -0.163158\n",
      "review         -0.028259 -0.037884  0.001970  1.000000 -0.036118\n",
      "rating         -0.007523 -0.034337 -0.163158 -0.036118  1.000000\n"
     ]
    }
   ],
   "source": [
    "# Calculating the correlations between helpfulness, gender, category, review and rating\n",
    "corr_matrix = df[['helpfulness', 'gender', 'category', 'review', 'rating']].corr()\n",
    "print(\"Correlation matrix:\")\n",
    "print(corr_matrix)"
   ]
  },
  {
   "cell_type": "markdown",
   "id": "66f75ff9",
   "metadata": {},
   "source": [
    "As seen above in the correlation matrix, we can see that 'review' and 'category' has the weakest positive correlation of 0.001970. \n",
    "\n",
    "We can also see a weak correlation between 'rating' and 'helpfulness' of -0.007523, 'rating' and 'gender' also has a weak correlation of -0.034337, 'rating' and 'category' has a weak correlation of -0.163158 which is the highest of all correlation. The correlation between 'rating and 'review' is also weak with a correlation of -0.036118."
   ]
  },
  {
   "cell_type": "markdown",
   "id": "4myP5igslA_Y",
   "metadata": {
    "id": "4myP5igslA_Y"
   },
   "source": [
    "### Split Training and Testing Data\n",
    "* Machine learning models are trained to help make predictions for the future. Normally, we need to randomly split the dataset into training and testing sets, where we use the training set to train the model, and then leverage the well-trained model to make predictions on the testing set.\n",
    "* To further investigate whether the size of the training/testing data affects the model performance, please random split the data into training and testing sets with different sizes:\n",
    "    * Case 1: training data containing 10% of the entire data;\n",
    "    * Case 2: training data containing 90% of the entire data.\n",
    "* Print the shape of training and testing sets in the two cases."
   ]
  },
  {
   "cell_type": "code",
   "execution_count": 10,
   "id": "JIDMig9blA_Y",
   "metadata": {
    "id": "JIDMig9blA_Y"
   },
   "outputs": [
    {
     "name": "stdout",
     "output_type": "stream",
     "text": [
      "Case 1: training data containing 10% of the entire data\n",
      "Training shape (268, 11)\n",
      "Testing share (2417, 11)\n",
      "Case 2: training data containing 90% of the entire data\n",
      "Training shape (2416, 11)\n",
      "Testing share (269, 11)\n"
     ]
    }
   ],
   "source": [
    "train1, test1 = train_test_split(df, test_size=0.9, random_state=142)\n",
    "train2, test2 = train_test_split(df, test_size=0.1, random_state=142)\n",
    "print(\"Case 1: training data containing 10% of the entire data\")\n",
    "print(\"Training shape\",train1.shape)\n",
    "print(\"Testing share\",test1.shape)\n",
    "\n",
    "print(\"Case 2: training data containing 90% of the entire data\")\n",
    "print(\"Training shape\",train2.shape)\n",
    "print(\"Testing share\",test2.shape)"
   ]
  },
  {
   "cell_type": "markdown",
   "id": "DjSsgT0BlA_Y",
   "metadata": {
    "id": "DjSsgT0BlA_Y"
   },
   "source": [
    "### Train Linear Regression Models with Feature Selection under Cases 1 & 2\n",
    "* When training a machine learning model for prediction, we may need to select the most important/correlated input features for more accurate results.\n",
    "* To investigate whether feature selection affects the model performance, please select two most correlated features and two least correlated features from helpfulness/gender/category/review regarding rating, respectively.\n",
    "* Train four linear regression models by following the conditions:\n",
    "    - (model-a) using the training/testing data in case 1 with two most correlated input features\n",
    "    - (model-b) using the training/testing data in case 1 with two least correlated input features\n",
    "    - (model-c) using the training/testing data in case 2 with two most correlated input features\n",
    "    - (model-d) using the training/testing data in case 2 with two least correlated input features\n",
    "* By doing this, we can verify the impacts of the size of traing/testing data on the model performance via comparing model-a and model-c (or model-b and model-d); meanwhile the impacts of feature selection can be validated via comparing model-a and model-b (or model-c and model-d).    "
   ]
  },
  {
   "cell_type": "markdown",
   "id": "e1d272bb",
   "metadata": {},
   "source": [
    "#### Find the most correlated and least correlated features"
   ]
  },
  {
   "cell_type": "code",
   "execution_count": 11,
   "id": "DASzPUATlA_Z",
   "metadata": {
    "id": "DASzPUATlA_Z"
   },
   "outputs": [
    {
     "name": "stdout",
     "output_type": "stream",
     "text": [
      "correlation between each feature and rating\n"
     ]
    },
    {
     "data": {
      "text/plain": [
       "category      -0.163158\n",
       "review        -0.036118\n",
       "gender        -0.034337\n",
       "helpfulness   -0.007523\n",
       "rating         1.000000\n",
       "Name: rating, dtype: float64"
      ]
     },
     "execution_count": 11,
     "metadata": {},
     "output_type": "execute_result"
    }
   ],
   "source": [
    "corr_rating = corr_matrix['rating'].sort_values()\n",
    "print(\"correlation between each feature and rating\")\n",
    "corr_rating"
   ]
  },
  {
   "cell_type": "code",
   "execution_count": 12,
   "id": "5484ba45",
   "metadata": {},
   "outputs": [],
   "source": [
    "most_correlated = ['rating', 'category']\n",
    "least_correlated = ['rating', 'helpfulness']"
   ]
  },
  {
   "cell_type": "markdown",
   "id": "02dc35de",
   "metadata": {},
   "source": [
    "#### Spliting the data for Case 1 and case 2"
   ]
  },
  {
   "cell_type": "code",
   "execution_count": 13,
   "id": "60713bdf",
   "metadata": {},
   "outputs": [],
   "source": [
    "# Split data for Case 1 (10% training data)\n",
    "train1, test1 = train_test_split(df, train_size=0.9, random_state=142)\n",
    "\n",
    "# Split data for Case 2 (90% training data)\n",
    "train2, test2 = train_test_split(df, train_size=0.1, random_state=142)"
   ]
  },
  {
   "cell_type": "markdown",
   "id": "0a4dabc9",
   "metadata": {},
   "source": [
    "#### Four linear regression models"
   ]
  },
  {
   "cell_type": "code",
   "execution_count": 14,
   "id": "6effd168",
   "metadata": {},
   "outputs": [],
   "source": [
    "from sklearn.linear_model import LinearRegression\n",
    "from sklearn.metrics import mean_squared_error"
   ]
  },
  {
   "cell_type": "markdown",
   "id": "050be19c",
   "metadata": {},
   "source": [
    "Train Linear regression model for model a"
   ]
  },
  {
   "cell_type": "code",
   "execution_count": 15,
   "id": "7d43aeea",
   "metadata": {},
   "outputs": [],
   "source": [
    "x_train_a = train1[most_correlated].values.reshape(-1, len(most_correlated))\n",
    "y_train_a = train1['rating']\n",
    "x_test_a = test1[most_correlated].values.reshape(-1, len(most_correlated))\n",
    "y_test_a = test1['rating']\n",
    "\n",
    "model_a = LinearRegression()\n",
    "model_a.fit(x_train_a, y_train_a)\n",
    "y_pred_a = model_a.predict(x_test_a)\n",
    "mse_a = mean_squared_error(y_test_a, y_pred_a)"
   ]
  },
  {
   "cell_type": "markdown",
   "id": "38814d35",
   "metadata": {},
   "source": [
    "Train Linear regression model for model b"
   ]
  },
  {
   "cell_type": "code",
   "execution_count": 17,
   "id": "17d99aab",
   "metadata": {},
   "outputs": [],
   "source": [
    "x_train_b = train1[least_correlated].values.reshape(-1, len(least_correlated))\n",
    "y_train_b = train1['rating']\n",
    "x_test_b = test1[least_correlated].values.reshape(-1, len(least_correlated))\n",
    "y_test_b = test1['rating']\n",
    "\n",
    "model_b = LinearRegression()\n",
    "model_b.fit(x_train_b, y_train_b)\n",
    "y_pred_b = model_b.predict(x_test_b)\n",
    "mse_b = mean_squared_error(y_test_b, y_pred_b)"
   ]
  },
  {
   "cell_type": "markdown",
   "id": "21e5cc4f",
   "metadata": {},
   "source": [
    "Train Linear regression model for model c"
   ]
  },
  {
   "cell_type": "code",
   "execution_count": 18,
   "id": "9441f312",
   "metadata": {},
   "outputs": [],
   "source": [
    "x_train_c = train2[most_correlated].values.reshape(-1, len(most_correlated))\n",
    "y_train_c = train2['rating']\n",
    "x_test_c = test2[most_correlated].values.reshape(-1, len(most_correlated))\n",
    "y_test_c = test2['rating']\n",
    "\n",
    "model_c = LinearRegression()\n",
    "model_c.fit(x_train_c, y_train_c)\n",
    "y_pred_c = model_c.predict(x_test_c)\n",
    "mse_c = mean_squared_error(y_test_c, y_pred_c)"
   ]
  },
  {
   "cell_type": "markdown",
   "id": "6d4b6cc4",
   "metadata": {},
   "source": [
    "Train Linear regression model for model d"
   ]
  },
  {
   "cell_type": "code",
   "execution_count": 19,
   "id": "68374b8f",
   "metadata": {},
   "outputs": [],
   "source": [
    "x_train_d = train2[least_correlated].values.reshape(-1, len(least_correlated))\n",
    "y_train_d = train2['rating']\n",
    "x_test_d = test2[least_correlated].values.reshape(-1, len(least_correlated))\n",
    "y_test_d = test2['rating']\n",
    "\n",
    "model_d = LinearRegression()\n",
    "model_d.fit(x_train_d, y_train_d)\n",
    "y_pred_d = model_d.predict(x_test_d)\n",
    "mse_d = mean_squared_error(y_test_d, y_pred_d)"
   ]
  },
  {
   "cell_type": "markdown",
   "id": "KATSn7hYlA_Z",
   "metadata": {
    "id": "KATSn7hYlA_Z"
   },
   "source": [
    "### Evaluate Models\n",
    "* Evaluate the performance of the four models with two metrics, including MSE and Root MSE\n",
    "* Print the results of the four models regarding the two metrics"
   ]
  },
  {
   "cell_type": "code",
   "execution_count": 20,
   "id": "aa55a9b6",
   "metadata": {},
   "outputs": [],
   "source": [
    "rmse_a = np.sqrt(mse_a)\n",
    "rmse_b = np.sqrt(mse_b)\n",
    "rmse_c = np.sqrt(mse_c)\n",
    "rmse_d = np.sqrt(mse_d)"
   ]
  },
  {
   "cell_type": "code",
   "execution_count": 21,
   "id": "d1c5edd7",
   "metadata": {},
   "outputs": [
    {
     "name": "stdout",
     "output_type": "stream",
     "text": [
      "Model-a MSE: 5.014875285258388e-30\n",
      "Model-b MSE: 3.772749273482645e-30\n",
      "Model-c MSE: 0.0\n",
      "Model-d MSE: 2.007238132854457e-32\n"
     ]
    }
   ],
   "source": [
    "print(\"Model-a MSE:\", mse_a)\n",
    "print(\"Model-b MSE:\", mse_b)\n",
    "print(\"Model-c MSE:\", mse_c)\n",
    "print(\"Model-d MSE:\", mse_d)"
   ]
  },
  {
   "cell_type": "code",
   "execution_count": 22,
   "id": "6464468c",
   "metadata": {},
   "outputs": [
    {
     "name": "stdout",
     "output_type": "stream",
     "text": [
      "Model-a RMSE: 2.239391722155458e-15\n",
      "Model-b RMSE: 1.942356628810128e-15\n",
      "Model-c RMSE: 0.0\n",
      "Model-d RMSE: 1.4167703176077825e-16\n"
     ]
    }
   ],
   "source": [
    "print(\"Model-a RMSE:\", rmse_a)\n",
    "print(\"Model-b RMSE:\", rmse_b)\n",
    "print(\"Model-c RMSE:\", rmse_c)\n",
    "print(\"Model-d RMSE:\", rmse_d)\n"
   ]
  },
  {
   "cell_type": "markdown",
   "id": "Y9jx-eY6lA_a",
   "metadata": {
    "id": "Y9jx-eY6lA_a"
   },
   "source": [
    "### Visualize, Compare and Analyze the Results\n",
    "* Visulize the results, and perform ___insightful analysis___ on the obtained results. For better visualization, you may need to carefully set the scale for the y-axis.\n",
    "* Normally, the model trained with most correlated features and more training data will get better results. Do you obtain the similar observations? If not, please ___explain the possible reasons___."
   ]
  },
  {
   "cell_type": "markdown",
   "id": "fef50da4",
   "metadata": {},
   "source": [
    "RMSE "
   ]
  },
  {
   "cell_type": "code",
   "execution_count": 23,
   "id": "c2e26041",
   "metadata": {},
   "outputs": [
    {
     "data": {
      "text/html": [
       "<div>\n",
       "<style scoped>\n",
       "    .dataframe tbody tr th:only-of-type {\n",
       "        vertical-align: middle;\n",
       "    }\n",
       "\n",
       "    .dataframe tbody tr th {\n",
       "        vertical-align: top;\n",
       "    }\n",
       "\n",
       "    .dataframe thead th {\n",
       "        text-align: right;\n",
       "    }\n",
       "</style>\n",
       "<table border=\"1\" class=\"dataframe\">\n",
       "  <thead>\n",
       "    <tr style=\"text-align: right;\">\n",
       "      <th></th>\n",
       "      <th>RMSE</th>\n",
       "    </tr>\n",
       "  </thead>\n",
       "  <tbody>\n",
       "    <tr>\n",
       "      <th>Model-a</th>\n",
       "      <td>2.239392e-15</td>\n",
       "    </tr>\n",
       "    <tr>\n",
       "      <th>Model-b</th>\n",
       "      <td>1.942357e-15</td>\n",
       "    </tr>\n",
       "  </tbody>\n",
       "</table>\n",
       "</div>"
      ],
      "text/plain": [
       "                 RMSE\n",
       "Model-a  2.239392e-15\n",
       "Model-b  1.942357e-15"
      ]
     },
     "execution_count": 23,
     "metadata": {},
     "output_type": "execute_result"
    }
   ],
   "source": [
    "rmse_df_ab = pd.DataFrame({'RMSE': [rmse_a, rmse_b]}, index=['Model-a', 'Model-b'])\n",
    "rmse_df_ab.head()"
   ]
  },
  {
   "cell_type": "code",
   "execution_count": 24,
   "id": "d5d6cc7f",
   "metadata": {},
   "outputs": [
    {
     "data": {
      "text/html": [
       "<div>\n",
       "<style scoped>\n",
       "    .dataframe tbody tr th:only-of-type {\n",
       "        vertical-align: middle;\n",
       "    }\n",
       "\n",
       "    .dataframe tbody tr th {\n",
       "        vertical-align: top;\n",
       "    }\n",
       "\n",
       "    .dataframe thead th {\n",
       "        text-align: right;\n",
       "    }\n",
       "</style>\n",
       "<table border=\"1\" class=\"dataframe\">\n",
       "  <thead>\n",
       "    <tr style=\"text-align: right;\">\n",
       "      <th></th>\n",
       "      <th>RMSE</th>\n",
       "    </tr>\n",
       "  </thead>\n",
       "  <tbody>\n",
       "    <tr>\n",
       "      <th>Model-c</th>\n",
       "      <td>2.239392e-15</td>\n",
       "    </tr>\n",
       "    <tr>\n",
       "      <th>Model-d</th>\n",
       "      <td>1.942357e-15</td>\n",
       "    </tr>\n",
       "  </tbody>\n",
       "</table>\n",
       "</div>"
      ],
      "text/plain": [
       "                 RMSE\n",
       "Model-c  2.239392e-15\n",
       "Model-d  1.942357e-15"
      ]
     },
     "execution_count": 24,
     "metadata": {},
     "output_type": "execute_result"
    }
   ],
   "source": [
    "rmse_df_cd = pd.DataFrame({'RMSE': [rmse_a, rmse_b]}, index=['Model-c', 'Model-d'])\n",
    "rmse_df_cd.head()"
   ]
  },
  {
   "cell_type": "code",
   "execution_count": 25,
   "id": "3068ef64",
   "metadata": {},
   "outputs": [
    {
     "data": {
      "text/html": [
       "<div>\n",
       "<style scoped>\n",
       "    .dataframe tbody tr th:only-of-type {\n",
       "        vertical-align: middle;\n",
       "    }\n",
       "\n",
       "    .dataframe tbody tr th {\n",
       "        vertical-align: top;\n",
       "    }\n",
       "\n",
       "    .dataframe thead th {\n",
       "        text-align: right;\n",
       "    }\n",
       "</style>\n",
       "<table border=\"1\" class=\"dataframe\">\n",
       "  <thead>\n",
       "    <tr style=\"text-align: right;\">\n",
       "      <th></th>\n",
       "      <th>RMSE</th>\n",
       "    </tr>\n",
       "  </thead>\n",
       "  <tbody>\n",
       "    <tr>\n",
       "      <th>Model-a</th>\n",
       "      <td>2.239392e-15</td>\n",
       "    </tr>\n",
       "    <tr>\n",
       "      <th>Model-c</th>\n",
       "      <td>1.942357e-15</td>\n",
       "    </tr>\n",
       "  </tbody>\n",
       "</table>\n",
       "</div>"
      ],
      "text/plain": [
       "                 RMSE\n",
       "Model-a  2.239392e-15\n",
       "Model-c  1.942357e-15"
      ]
     },
     "execution_count": 25,
     "metadata": {},
     "output_type": "execute_result"
    }
   ],
   "source": [
    "rmse_df_ac = pd.DataFrame({'RMSE': [rmse_a, rmse_b]}, index=['Model-a', 'Model-c'])\n",
    "rmse_df_ac.head()"
   ]
  },
  {
   "cell_type": "code",
   "execution_count": 26,
   "id": "8f69c3ed",
   "metadata": {},
   "outputs": [
    {
     "data": {
      "text/html": [
       "<div>\n",
       "<style scoped>\n",
       "    .dataframe tbody tr th:only-of-type {\n",
       "        vertical-align: middle;\n",
       "    }\n",
       "\n",
       "    .dataframe tbody tr th {\n",
       "        vertical-align: top;\n",
       "    }\n",
       "\n",
       "    .dataframe thead th {\n",
       "        text-align: right;\n",
       "    }\n",
       "</style>\n",
       "<table border=\"1\" class=\"dataframe\">\n",
       "  <thead>\n",
       "    <tr style=\"text-align: right;\">\n",
       "      <th></th>\n",
       "      <th>RMSE</th>\n",
       "    </tr>\n",
       "  </thead>\n",
       "  <tbody>\n",
       "    <tr>\n",
       "      <th>Model-b</th>\n",
       "      <td>2.239392e-15</td>\n",
       "    </tr>\n",
       "    <tr>\n",
       "      <th>Model-d</th>\n",
       "      <td>1.942357e-15</td>\n",
       "    </tr>\n",
       "  </tbody>\n",
       "</table>\n",
       "</div>"
      ],
      "text/plain": [
       "                 RMSE\n",
       "Model-b  2.239392e-15\n",
       "Model-d  1.942357e-15"
      ]
     },
     "execution_count": 26,
     "metadata": {},
     "output_type": "execute_result"
    }
   ],
   "source": [
    "rmse_df_bd = pd.DataFrame({'RMSE': [rmse_a, rmse_b]}, index=['Model-b', 'Model-d'])\n",
    "rmse_df_bd.head()"
   ]
  },
  {
   "cell_type": "code",
   "execution_count": 27,
   "id": "f162a5d6",
   "metadata": {},
   "outputs": [
    {
     "data": {
      "image/png": "[encoded data removed]",
      "text/plain": [
       "<Figure size 800x600 with 1 Axes>"
      ]
     },
     "metadata": {},
     "output_type": "display_data"
    }
   ],
   "source": [
    "rmse_df_ab.plot(kind='bar', color='skyblue', figsize=(8, 6))\n",
    "\n",
    "plt.xlabel('Model')\n",
    "plt.ylabel('Root Mean Squared Error (RMSE)')\n",
    "plt.title('Root Mean Squared Error (RMSE) for Model-a and Model-b')\n",
    "\n",
    "plt.show()"
   ]
  },
  {
   "cell_type": "code",
   "execution_count": 28,
   "id": "6ff09ecd",
   "metadata": {},
   "outputs": [
    {
     "data": {
      "image/png": "[encoded data removed]",
      "text/plain": [
       "<Figure size 800x600 with 1 Axes>"
      ]
     },
     "metadata": {},
     "output_type": "display_data"
    }
   ],
   "source": [
    "rmse_df_cd.plot(kind='bar', color='skyblue', figsize=(8, 6))\n",
    "\n",
    "plt.xlabel('Model')\n",
    "plt.ylabel('Root Mean Squared Error (RMSE)')\n",
    "plt.title('Root Mean Squared Error (RMSE) for Model-c and Model-d')\n",
    "\n",
    "plt.show()"
   ]
  },
  {
   "cell_type": "code",
   "execution_count": 29,
   "id": "67540e25",
   "metadata": {},
   "outputs": [
    {
     "data": {
      "image/png": "[encoded data removed]",
      "text/plain": [
       "<Figure size 800x600 with 1 Axes>"
      ]
     },
     "metadata": {},
     "output_type": "display_data"
    }
   ],
   "source": [
    "rmse_df_ac.plot(kind='bar', color='skyblue', figsize=(8, 6))\n",
    "\n",
    "plt.xlabel('Model')\n",
    "plt.ylabel('Root Mean Squared Error (RMSE)')\n",
    "plt.title('Root Mean Squared Error (RMSE) for Model-a and Model-c')\n",
    "\n",
    "plt.show()"
   ]
  },
  {
   "cell_type": "code",
   "execution_count": 30,
   "id": "42ab5f55",
   "metadata": {},
   "outputs": [
    {
     "data": {
      "image/png": "[encoded data removed]",
      "text/plain": [
       "<Figure size 800x600 with 1 Axes>"
      ]
     },
     "metadata": {},
     "output_type": "display_data"
    }
   ],
   "source": [
    "rmse_df_bd.plot(kind='bar', color='skyblue', figsize=(8, 6))\n",
    "\n",
    "plt.xlabel('Model')\n",
    "plt.ylabel('Root Mean Squared Error (RMSE)')\n",
    "plt.title('Root Mean Squared Error (RMSE) for Model-b and Model-d')\n",
    "\n",
    "plt.show()"
   ]
  },
  {
   "cell_type": "markdown",
   "id": "c37b643d",
   "metadata": {},
   "source": [
    "Model a is the two most correlated features. These features are expected to have strong linear relationship, making more predictive and potentially resulting in lower errors. Model b is the two least correlated features which may lead to higher prediction errors. \n",
    "\n",
    "From the above barplot displays the RMSE for model a and model b. Model b has a lower RMSE value which suggests better performance in predicting the variable, therefore, it may indicate the feature correlation does not guarantee better model performance. "
   ]
  },
  {
   "cell_type": "markdown",
   "id": "dd063485",
   "metadata": {},
   "source": [
    "MSE"
   ]
  },
  {
   "cell_type": "code",
   "execution_count": 31,
   "id": "14d4cd9b",
   "metadata": {},
   "outputs": [
    {
     "data": {
      "text/html": [
       "<div>\n",
       "<style scoped>\n",
       "    .dataframe tbody tr th:only-of-type {\n",
       "        vertical-align: middle;\n",
       "    }\n",
       "\n",
       "    .dataframe tbody tr th {\n",
       "        vertical-align: top;\n",
       "    }\n",
       "\n",
       "    .dataframe thead th {\n",
       "        text-align: right;\n",
       "    }\n",
       "</style>\n",
       "<table border=\"1\" class=\"dataframe\">\n",
       "  <thead>\n",
       "    <tr style=\"text-align: right;\">\n",
       "      <th></th>\n",
       "      <th>MSE</th>\n",
       "    </tr>\n",
       "  </thead>\n",
       "  <tbody>\n",
       "    <tr>\n",
       "      <th>Model-a</th>\n",
       "      <td>5.014875e-30</td>\n",
       "    </tr>\n",
       "    <tr>\n",
       "      <th>Model-b</th>\n",
       "      <td>3.772749e-30</td>\n",
       "    </tr>\n",
       "  </tbody>\n",
       "</table>\n",
       "</div>"
      ],
      "text/plain": [
       "                  MSE\n",
       "Model-a  5.014875e-30\n",
       "Model-b  3.772749e-30"
      ]
     },
     "execution_count": 31,
     "metadata": {},
     "output_type": "execute_result"
    }
   ],
   "source": [
    "mse_df_ab = pd.DataFrame({'MSE': [mse_a, mse_b]}, index=['Model-a', 'Model-b'])\n",
    "mse_df_ab.head()"
   ]
  },
  {
   "cell_type": "code",
   "execution_count": 32,
   "id": "196465ca",
   "metadata": {},
   "outputs": [
    {
     "data": {
      "text/html": [
       "<div>\n",
       "<style scoped>\n",
       "    .dataframe tbody tr th:only-of-type {\n",
       "        vertical-align: middle;\n",
       "    }\n",
       "\n",
       "    .dataframe tbody tr th {\n",
       "        vertical-align: top;\n",
       "    }\n",
       "\n",
       "    .dataframe thead th {\n",
       "        text-align: right;\n",
       "    }\n",
       "</style>\n",
       "<table border=\"1\" class=\"dataframe\">\n",
       "  <thead>\n",
       "    <tr style=\"text-align: right;\">\n",
       "      <th></th>\n",
       "      <th>MSE</th>\n",
       "    </tr>\n",
       "  </thead>\n",
       "  <tbody>\n",
       "    <tr>\n",
       "      <th>Model-c</th>\n",
       "      <td>5.014875e-30</td>\n",
       "    </tr>\n",
       "    <tr>\n",
       "      <th>Model-d</th>\n",
       "      <td>3.772749e-30</td>\n",
       "    </tr>\n",
       "  </tbody>\n",
       "</table>\n",
       "</div>"
      ],
      "text/plain": [
       "                  MSE\n",
       "Model-c  5.014875e-30\n",
       "Model-d  3.772749e-30"
      ]
     },
     "execution_count": 32,
     "metadata": {},
     "output_type": "execute_result"
    }
   ],
   "source": [
    "mse_df_cd = pd.DataFrame({'MSE': [mse_a, mse_b]}, index=['Model-c', 'Model-d'])\n",
    "mse_df_cd.head()"
   ]
  },
  {
   "cell_type": "code",
   "execution_count": 33,
   "id": "b05bd4bf",
   "metadata": {},
   "outputs": [
    {
     "data": {
      "text/html": [
       "<div>\n",
       "<style scoped>\n",
       "    .dataframe tbody tr th:only-of-type {\n",
       "        vertical-align: middle;\n",
       "    }\n",
       "\n",
       "    .dataframe tbody tr th {\n",
       "        vertical-align: top;\n",
       "    }\n",
       "\n",
       "    .dataframe thead th {\n",
       "        text-align: right;\n",
       "    }\n",
       "</style>\n",
       "<table border=\"1\" class=\"dataframe\">\n",
       "  <thead>\n",
       "    <tr style=\"text-align: right;\">\n",
       "      <th></th>\n",
       "      <th>MSE</th>\n",
       "    </tr>\n",
       "  </thead>\n",
       "  <tbody>\n",
       "    <tr>\n",
       "      <th>Model-a</th>\n",
       "      <td>5.014875e-30</td>\n",
       "    </tr>\n",
       "    <tr>\n",
       "      <th>Model-c</th>\n",
       "      <td>3.772749e-30</td>\n",
       "    </tr>\n",
       "  </tbody>\n",
       "</table>\n",
       "</div>"
      ],
      "text/plain": [
       "                  MSE\n",
       "Model-a  5.014875e-30\n",
       "Model-c  3.772749e-30"
      ]
     },
     "execution_count": 33,
     "metadata": {},
     "output_type": "execute_result"
    }
   ],
   "source": [
    "mse_df_ac = pd.DataFrame({'MSE': [mse_a, mse_b]}, index=['Model-a', 'Model-c'])\n",
    "mse_df_ac.head()"
   ]
  },
  {
   "cell_type": "code",
   "execution_count": 34,
   "id": "46358e3b",
   "metadata": {},
   "outputs": [
    {
     "data": {
      "text/html": [
       "<div>\n",
       "<style scoped>\n",
       "    .dataframe tbody tr th:only-of-type {\n",
       "        vertical-align: middle;\n",
       "    }\n",
       "\n",
       "    .dataframe tbody tr th {\n",
       "        vertical-align: top;\n",
       "    }\n",
       "\n",
       "    .dataframe thead th {\n",
       "        text-align: right;\n",
       "    }\n",
       "</style>\n",
       "<table border=\"1\" class=\"dataframe\">\n",
       "  <thead>\n",
       "    <tr style=\"text-align: right;\">\n",
       "      <th></th>\n",
       "      <th>MSE</th>\n",
       "    </tr>\n",
       "  </thead>\n",
       "  <tbody>\n",
       "    <tr>\n",
       "      <th>Model-b</th>\n",
       "      <td>5.014875e-30</td>\n",
       "    </tr>\n",
       "    <tr>\n",
       "      <th>Model-d</th>\n",
       "      <td>3.772749e-30</td>\n",
       "    </tr>\n",
       "  </tbody>\n",
       "</table>\n",
       "</div>"
      ],
      "text/plain": [
       "                  MSE\n",
       "Model-b  5.014875e-30\n",
       "Model-d  3.772749e-30"
      ]
     },
     "execution_count": 34,
     "metadata": {},
     "output_type": "execute_result"
    }
   ],
   "source": [
    "mse_df_bd = pd.DataFrame({'MSE': [mse_a, mse_b]}, index=['Model-b', 'Model-d'])\n",
    "mse_df_bd.head()"
   ]
  },
  {
   "cell_type": "code",
   "execution_count": 35,
   "id": "b5b4e988",
   "metadata": {},
   "outputs": [
    {
     "data": {
      "image/png": "[encoded data removed]",
      "text/plain": [
       "<Figure size 800x600 with 1 Axes>"
      ]
     },
     "metadata": {},
     "output_type": "display_data"
    }
   ],
   "source": [
    "mse_df_ab.plot(kind='bar', color='skyblue', figsize=(8, 6))\n",
    "\n",
    "plt.xlabel('Model')\n",
    "plt.ylabel('Mean Squared Error (MSE)')\n",
    "plt.title('Mean Squared Error (MSE) for Model-a and Model-b')\n",
    "\n",
    "plt.show()"
   ]
  },
  {
   "cell_type": "code",
   "execution_count": 36,
   "id": "57941fd9",
   "metadata": {},
   "outputs": [
    {
     "data": {
      "image/png": "[encoded data removed]",
      "text/plain": [
       "<Figure size 800x600 with 1 Axes>"
      ]
     },
     "metadata": {},
     "output_type": "display_data"
    }
   ],
   "source": [
    "mse_df_cd.plot(kind='bar', color='skyblue', figsize=(8, 6))\n",
    "\n",
    "plt.xlabel('Model')\n",
    "plt.ylabel('Mean Squared Error (MSE)')\n",
    "plt.title('Mean Squared Error (MSE) for Model-c and Model-d')\n",
    "\n",
    "plt.show()"
   ]
  },
  {
   "cell_type": "code",
   "execution_count": 37,
   "id": "88cb13d9",
   "metadata": {},
   "outputs": [
    {
     "data": {
      "image/png": "[encoded data removed]",
      "text/plain": [
       "<Figure size 800x600 with 1 Axes>"
      ]
     },
     "metadata": {},
     "output_type": "display_data"
    }
   ],
   "source": [
    "mse_df_ac.plot(kind='bar', color='skyblue', figsize=(8, 6))\n",
    "\n",
    "plt.xlabel('Model')\n",
    "plt.ylabel('Mean Squared Error (MSE)')\n",
    "plt.title('Mean Squared Error (MSE) for Model-a and Model-c')\n",
    "\n",
    "plt.show()"
   ]
  },
  {
   "cell_type": "code",
   "execution_count": 38,
   "id": "f979a216",
   "metadata": {},
   "outputs": [
    {
     "data": {
      "image/png": "[encoded data removed]",
      "text/plain": [
       "<Figure size 800x600 with 1 Axes>"
      ]
     },
     "metadata": {},
     "output_type": "display_data"
    }
   ],
   "source": [
    "mse_df_bd.plot(kind='bar', color='skyblue', figsize=(8, 6))\n",
    "\n",
    "plt.xlabel('Model')\n",
    "plt.ylabel('Mean Squared Error (MSE)')\n",
    "plt.title('Mean Squared Error (MSE) for Model-b and Model-d')\n",
    "\n",
    "plt.show()"
   ]
  },
  {
   "cell_type": "markdown",
   "id": "30d2b569",
   "metadata": {},
   "source": [
    "Above barplot showcases the Mean Square Error of model a and model b. Model a displays a higher MSE compared to model b which suggests model a's prediction are less accurate than model b. "
   ]
  },
  {
   "cell_type": "markdown",
   "id": "f9ee01ac",
   "metadata": {
    "id": "f9ee01ac"
   },
   "source": [
    "### Data Science Ethics\n",
    "*Please read the following examples [Click here to read the example_1.](https://www.vox.com/covid-19-coronavirus-us-response-trump/2020/5/18/21262265/georgia-covid-19-cases-declining-reopening) [Click here to read the example_2.](https://viborc.com/ethics-and-ethical-data-visualization-a-complete-guide/)\n",
    "\n",
    "*Then view the picture ![My Image](figure_portfolio2.png \"This is my image\")\n",
    "Please compose an analysis of 100-200 words that evaluates potential ethical concerns associated with the infographic, detailing the reasons behind these issues.\n"
   ]
  },
  {
   "cell_type": "markdown",
   "id": "2db1085d",
   "metadata": {
    "id": "44f30e9b"
   },
   "source": [
    "#### Analysis evaluating potential ethical concerns associated with the infographic\n",
    "\n",
    "Infographics are an important tool in conveying information visually. However, they can raise potential ethical concerns if not designed and presented carefully. \n",
    "\n",
    "For example, the inforgraphics displaying the 2008 Summer Olympic medlas sorted by total medals and Gold medals raises potential ethical concerns related to fairness, transparency and over simplicity. \n",
    "\n",
    "Sorting the medals by total and gold medals separately can create biased representation of the overall performance of countries. It may prioritise certain countries based solely on the number of medals won, disregarding other factors such as population size, resources and fundings which could lead to misinterpretation or oversimplification of the medal standings. Oversimplification fails to recognise the diversity of achievements and the significance of individual performances. The lack of transparency may also obsure the complex political, cultural, and socio-economic factors influencing Olympic success. \n",
    "\n",
    "To address these concerns, infographics should provide comprehensive context to ensure ethical representation and avoid promotion of biased narratives in infographics related to Olympic achievements.\n",
    "\n",
    "\n"
   ]
  },
  {
   "cell_type": "code",
   "execution_count": null,
   "id": "3005bb4c",
   "metadata": {},
   "outputs": [],
   "source": []
  }
 ],
 "metadata": {
  "colab": {
   "provenance": []
  },
  "kernelspec": {
   "display_name": "Python 3 (ipykernel)",
   "language": "python",
   "name": "python3"
  },
  "language_info": {
   "codemirror_mode": {
    "name": "ipython",
    "version": 3
   },
   "file_extension": ".py",
   "mimetype": "text/x-python",
   "name": "python",
   "nbconvert_exporter": "python",
   "pygments_lexer": "ipython3",
   "version": "3.9.13"
  }
 },
 "nbformat": 4,
 "nbformat_minor": 5
}
